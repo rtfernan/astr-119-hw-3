{
 "cells": [
  {
   "cell_type": "code",
   "execution_count": 1,
   "metadata": {},
   "outputs": [],
   "source": [
    "%matplotlib inline\n",
    "import numpy as np\n",
    "import matplotlib.pyplot as plt"
   ]
  },
  {
   "cell_type": "code",
   "execution_count": 2,
   "metadata": {},
   "outputs": [],
   "source": [
    "def function_for_roots(x):\n",
    "    a = 1.01\n",
    "    b = -3.04\n",
    "    c = 2.07\n",
    "    return a*x**2 + b*x +c"
   ]
  },
  {
   "cell_type": "code",
   "execution_count": 3,
   "metadata": {},
   "outputs": [],
   "source": [
    "def check_initial_values(f, x_min, x_max, tol):\n",
    "    \n",
    "    #check our initial guesses\n",
    "    y_min = f(x_min)\n",
    "    y_max = f(x_max)\n",
    "    \n",
    "    if (y_min*y_max>=0.0):\n",
    "            print(\"No Zero crossing found\", x_min,x_max)\n",
    "            s = \"f(%f) = %f, f(%f = %f)\" % (x_min, y_min,x_max,y_max)\n",
    "            print(s)\n",
    "            return 0\n",
    "    #if x_min is a root, then return flag == 1\n",
    "    if (np.fabs(y_min)<tol):\n",
    "        return 1\n",
    "    \n",
    "    #if x_max is a root, then return flag == 2\n",
    "    if (np.fabs(y_max)<tol):\n",
    "        return 2\n",
    "    \n",
    "    #if we reach this point, the bracket is valid\n",
    "    #and we will return 3\n",
    "    return 3"
   ]
  },
  {
   "cell_type": "code",
   "execution_count": 9,
   "metadata": {},
   "outputs": [],
   "source": [
    "def bisection_root_finding(f, x_min_start, x_max_start, tol):\n",
    "    \n",
    "    #this function uses bisection search t find a root\n",
    "    \n",
    "    x_min = x_min_start     #min x in bracket\n",
    "    x_max = x_max_start     #max x in bracket\n",
    "    x_mid = 0.0             #mid point\n",
    "    \n",
    "    y_min = f(x_min)     #function value at x_min\n",
    "    y_max = f(x_max)     #function value at x_max\n",
    "    y_mid = 0.0          #function value at mid point\n",
    "    \n",
    "    imax = 10000         #set a maximum number of iterations\n",
    "    i = 0                #iteration counter\n",
    "    \n",
    "    #check the initial values\n",
    "    flag = check_initial_values(f,x_min,x_max,tol)\n",
    "    if(flag==0):\n",
    "        print(\"Error in bisection_root_finding().\")\n",
    "        raise ValueError('Initial values invalid',x_min,x_max)\n",
    "    elif(flag==1):\n",
    "        #lucky guess\n",
    "        return x_min\n",
    "    elif(flag==2):\n",
    "        #another lucky guess\n",
    "        return x_max\n",
    "        \n",
    "    #if we reach here then we need to conduct the search\n",
    "    \n",
    "    #set a flag\n",
    "    flag = 1\n",
    "    \n",
    "    #enter a while loop\n",
    "    while(flag):\n",
    "        x_mid = 0.5*(x_min+x_max)   #midpoint\n",
    "        y_mid = f(x_mid)        #function value at x_mid\n",
    "        \n",
    "        #check if x_mid is a root\n",
    "        if(np.fabs(y_mid)<tol):\n",
    "            flag = 0\n",
    "            \n",
    "        else:\n",
    "                #x_mid is not a root\n",
    "                \n",
    "                #if the product of the function at the midpoint\n",
    "                #and at one of the end points is greater than\n",
    "                #zero, replace this end point\n",
    "            if(f(x_min)*f(x_mid)>0):\n",
    "                    #replace x_min with x_mid\n",
    "                    x_min = x_mid\n",
    "            else:\n",
    "                    #replace x_max with x_mid\n",
    "                    x_max = x_mid\n",
    "                    \n",
    "        #print out the iteration\n",
    "        print(x_min,f(x_min),x_max,f(x_max))\n",
    "        \n",
    "        #count the iteration\n",
    "        i += 1\n",
    "            \n",
    "        #if we have exceeded he max number\n",
    "        #of iterations, exit\n",
    "        if (i>=imax):\n",
    "            print(\"Exceeded max number of iteration = \",i)\n",
    "            s = \"min bracket f(%f) = %f\" % (x_min,f(x_min))\n",
    "            print(s)\n",
    "            s - \"Max bracket f(%f) = %f\" % (x_max,f(x_max))\n",
    "            print(s)\n",
    "            s = \"Mid bracket f(%f) = %f\" % (x_mid, f(x_mid))\n",
    "            print(s)\n",
    "            raise StopIteration('Stopping iterations after',i)\n",
    "        \n",
    "    #we're done!\n",
    "    return x_mid"
   ]
  },
  {
   "cell_type": "code",
   "execution_count": 11,
   "metadata": {},
   "outputs": [
    {
     "name": "stdout",
     "output_type": "stream",
     "text": [
      "0.0 2.07\n",
      "1.5 -0.2175000000000007\n",
      "0.75 0.3581249999999996 1.5 -0.2175000000000007\n",
      "0.75 0.3581249999999996 1.125 -0.07171875000000005\n",
      "0.9375 0.10769531249999975 1.125 -0.07171875000000005\n",
      "1.03125 0.009111328124999485 1.125 -0.07171875000000005\n",
      "1.03125 0.009111328124999485 1.078125 -0.033522949218749876\n",
      "1.03125 0.009111328124999485 1.0546875 -0.012760620117187482\n",
      "1.03125 0.009111328124999485 1.04296875 -0.0019633483886720704\n",
      "1.037109375 0.0035393142700193003 1.04296875 -0.0019633483886720704\n",
      "1.0400390625 0.0007793140411376243 1.04296875 -0.0019633483886720704\n",
      "1.0400390625 0.0007793140411376243 1.04150390625 -0.0005941843986509987\n",
      "1.040771484375 9.202301502186927e-05 1.04150390625 -0.0005941843986509987\n",
      "1.040771484375 9.202301502186927e-05 1.0411376953125 -0.0002512161433698701\n",
      "1.040771484375 9.202301502186927e-05 1.04095458984375 -7.963042706249368e-05\n",
      "1.040863037109375 6.1878282573424315e-06 1.04095458984375 -7.963042706249368e-05\n",
      "1.040863037109375 6.1878282573424315e-06 1.0409088134765625 -3.6723415833161965e-05\n",
      "1.040863037109375 6.1878282573424315e-06 1.0408859252929688 -1.5268322895334308e-05\n",
      "1.040863037109375 6.1878282573424315e-06 1.0408744812011719 -4.540379595852073e-06\n",
      "1.040863037109375 6.1878282573424315e-06 1.0408744812011719 -4.540379595852073e-06\n",
      "Root found with y(1.040869) = 0.000001\n"
     ]
    }
   ],
   "source": [
    "x_min = 0.0\n",
    "x_max = 1.5\n",
    "tolerance = 1.0e-6\n",
    "\n",
    "#print the initial guess\n",
    "print(x_min,function_for_roots(x_min))\n",
    "print(x_max,function_for_roots(x_max))\n",
    "\n",
    "x_root = bisection_root_finding(function_for_roots,x_min,x_max, tolerance)\n",
    "y_root = function_for_roots(x_root)\n",
    "\n",
    "s = \"Root found with y(%f) = %f\" % (x_root,y_root)\n",
    "print(s)"
   ]
  },
  {
   "cell_type": "markdown",
   "metadata": {},
   "source": [
    "#### 2) It takes 72 iterations to converge"
   ]
  },
  {
   "cell_type": "code",
   "execution_count": 80,
   "metadata": {
    "scrolled": true
   },
   "outputs": [],
   "source": [
    "x_values = np.linspace(0, 3, 1000, endpoint=False)"
   ]
  },
  {
   "cell_type": "code",
   "execution_count": 107,
   "metadata": {},
   "outputs": [
    {
     "data": {
      "image/png": "[encoded data removed]",
      "text/plain": [
       "<Figure size 432x288 with 1 Axes>"
      ]
     },
     "metadata": {
      "needs_background": "light"
     },
     "output_type": "display_data"
    }
   ],
   "source": [
    "a = 1.01\n",
    "b = -3.04\n",
    "c = 2.07\n",
    "\n",
    "def function_for_roots(x):\n",
    "    return a*(x**2) + b*x +c\n",
    "\n",
    "\n",
    "y = a*(x*np.exp(2))+ b*x +c\n",
    "\n",
    "y_values = np.empty([1000,], dtype=float)\n",
    "for i in range(len(x_values)):\n",
    "    y_values[i] = function_for_roots(x_values[i])\n",
    "\n",
    "plt.xlim(0,3)\n",
    "plt.ylim(-0.5,2.1)\n",
    "plt.xlabel('x')          \n",
    "plt.ylabel('f(x)')\n",
    "plt.plot([0,0], linewidth=2, color='blue')\n",
    "plt.plot([0],[-0.5], marker='o', markersize=7, color='red')\n",
    "plt.plot([3],[2.1], marker='o', markersize=7, color='red')\n",
    "plt.plot([1.040869], [0.000001], marker='o', markersize=7, color='black')\n",
    "plt.plot(x_values, y_values, color='green')\n",
    "\n",
    "plt.show()       "
   ]
  },
  {
   "cell_type": "code",
   "execution_count": null,
   "metadata": {},
   "outputs": [],
   "source": []
  },
  {
   "cell_type": "code",
   "execution_count": null,
   "metadata": {},
   "outputs": [],
   "source": []
  }
 ],
 "metadata": {
  "kernelspec": {
   "display_name": "Python 3",
   "language": "python",
   "name": "python3"
  },
  "language_info": {
   "codemirror_mode": {
    "name": "ipython",
    "version": 3
   },
   "file_extension": ".py",
   "mimetype": "text/x-python",
   "name": "python",
   "nbconvert_exporter": "python",
   "pygments_lexer": "ipython3",
   "version": "3.7.0"
  }
 },
 "nbformat": 4,
 "nbformat_minor": 2
}
